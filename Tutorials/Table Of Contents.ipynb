{
 "cells": [
  {
   "cell_type": "markdown",
   "id": "71aa5e07",
   "metadata": {},
   "source": [
    "# Welcome to the EXP tutorials\n",
    "\n",
    "## Goal\n",
    "\n",
    "These notebooks are designed to give you enough scaffolding and understanding of `pyEXP` concepts that you can apply the key ideas to your own projects.\n",
    "\n",
    "## Where do I start?\n",
    "\n",
    "The TOC below gives you a list of all the tutorial notebooks with an order that progressively builds on previous idioms from prior notebooks.  Each notebook will link you the next, previous, and this page for convenience.\n",
    "\n",
    "## Table of Contents\n",
    "\n",
    "| Section | Notebook | Description |\n",
    "| :-      | :-       | :-          |\n",
    "| Introduction | [Part 1: Coefficients](./Introduction/Part1-Coefficients.ipynb) | Create, view, and save EXP coefficients from simulation data |\n",
    "| Introduction | [Part 2: Analysis](./Introduction/Part2-Analysis.ipynb) | Derive main features of the simulation from the coefficients you constructed in Part 1 |\n",
    "| Basis | [Viewing a basis](./Basis/viewing%20a%20basis.ipynb) | Visualize spherical and cylindrical basis functions |\n",
    "| Basis | [A custom density profile](./Basis/cylcache%20python%20density.ipynb) | Create your own basis conditioned on a density funciton provided from Python |\n",
    "| mSSA | [Simple SSA example](./mSSA/cosine%20single%20channel.ipynb) | Singular Spectrum Analysis on a single data channel (SSA) |\n",
    "| mSSA | [Multichannel SSA example](./mSSA/cosine%20multichannel.ipynb) | Singular Spectrum Analysis on multiple data channels (mSSA) |\n",
    "| mSSA | [mSSA on EXP coefficient data](./mSSA/pyEXP%20coefficients.ipynb) | Application of mSSA to EXP coefficients |\n",
    "| Orbits | [Visualizing orbits](./Orbits/orbits%20in%20an%20EXP%20field.ipynb) | Integrate some simulation orbits in the gravitational field estimated by EXP |\n",
    "| Orbits | [Adding a custom force](./Orbits/orbits%20with%20a%20custom%20force.ipynb) | Provide your own force routine to integrate orbits |\n",
    "| EXP | [Simulating a disk & halo](./EXP/disk%20halo.ipynb) | Generate initial conditions, run an EXP simulation, and analyze the output from a notebook |\n",
    "| EXP | [Simulating a periodic cube](./EXP/cube%20run.ipynb) | Create and run a simulation in a three-dimensional periodic cube.  This is the classical analog of a cosmological collapse. |\n",
    "| EXP | [An unstable Zang disk](./EXP/zang%20disk.ipynb) | Create ICs and run a two-dimensional flat disk simulation demonstrating an unstable two-armed spiral |"
   ]
  }
 ],
 "metadata": {
  "kernelspec": {
   "display_name": "Python 3 (ipykernel)",
   "language": "python",
   "name": "python3"
  },
  "language_info": {
   "codemirror_mode": {
    "name": "ipython",
    "version": 3
   },
   "file_extension": ".py",
   "mimetype": "text/x-python",
   "name": "python",
   "nbconvert_exporter": "python",
   "pygments_lexer": "ipython3",
   "version": "3.12.3"
  }
 },
 "nbformat": 4,
 "nbformat_minor": 5
}
