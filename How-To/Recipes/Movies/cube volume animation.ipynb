{
 "cells": [
  {
   "cell_type": "markdown",
   "id": "fdbc0218",
   "metadata": {},
   "source": [
    "# Use `k3d` rendering to visualize isocontours\n",
    "\n",
    "There are lots of rendering tool kits available for Jupyter and Python.  Making isocontours with`k3d` \n",
    "particularly easy.  To install, you only need to do:\n",
    "\n",
    "```\n",
    "$ pip install k3d\n",
    "```\n",
    "\n",
    "## Using EXP coefficients, the EXP config file to construct a basis, and slices from the FieldGenerator\n",
    "\n",
    "Read in config from EXP yaml file and render a movie from the coefficient file.   This notebook will create the movie for either the disk or the halo by changing the component variable from 'dark' to 'star' and vice versa."
   ]
  },
  {
   "cell_type": "markdown",
   "id": "c9477147",
   "metadata": {},
   "source": [
    "## Begin with the usual imports\n",
    "\n",
    "You may need to append the pyEXP location to your Python path, depending on your installation."
   ]
  },
  {
   "cell_type": "code",
   "execution_count": 1,
   "id": "f2b21021",
   "metadata": {},
   "outputs": [],
   "source": [
    "import os\n",
    "import copy\n",
    "import yaml\n",
    "# You man need something like this if pyEXP is not installed in a PYTHONPATH location\n",
    "# sys.path.append('/my/path/to/site-packages')\n",
    "import pyEXP\n",
    "import numpy as np\n",
    "import matplotlib.pyplot as plt\n",
    "from matplotlib import ticker, cm, colors\n",
    "from os.path import exists\n",
    "\n",
    "import k3d\n",
    "from k3d import matplotlib_color_maps\n",
    "\n",
    "plt.rcParams['figure.figsize'] = [12, 9]"
   ]
  },
  {
   "cell_type": "markdown",
   "id": "6c1d9c53",
   "metadata": {},
   "source": [
    "## Switch to the working directory\n",
    "I like to be explicit about my working directory but you don't need to do this here.  It would be sufficient to simply pass the full path to the coefficient factory below or launch the notebook from a working directory."
   ]
  },
  {
   "cell_type": "code",
   "execution_count": 2,
   "id": "0cf8659f",
   "metadata": {},
   "outputs": [],
   "source": [
    "os.chdir('/data/Nbody/CubeTest')"
   ]
  },
  {
   "cell_type": "markdown",
   "id": "3a798b7d",
   "metadata": {},
   "source": [
    "## Configure the basis and component\n",
    "\n",
    "At minimum, you need to\n",
    "- Define the EXP config file to import the config.   \n",
    "- Define the target component.\n",
    "\n",
    "The rest of the notebook should then run without changes.  \n",
    "\n",
    "Two optional parameters:\n",
    "- The half size of each axis\n",
    "- Number of pixels along each axis"
   ]
  },
  {
   "cell_type": "code",
   "execution_count": 89,
   "id": "05508627",
   "metadata": {},
   "outputs": [],
   "source": [
    "# key parameters\n",
    "exp_config = 'config16b.yml'\n",
    "component  = 'cube'  # You can make the halo movie by changing this to 'dark halo'\n",
    "\n",
    "# options\n",
    "rmin       = 0.0\n",
    "rmax       = 1.0\n",
    "npix       = 50"
   ]
  },
  {
   "cell_type": "markdown",
   "id": "cfffb412",
   "metadata": {},
   "source": [
    "## Read the EXP config file, generate the basis from the config, and get the run tag for convenience"
   ]
  },
  {
   "cell_type": "code",
   "execution_count": 90,
   "id": "04d5cdcb",
   "metadata": {},
   "outputs": [],
   "source": [
    "# Open and read the YAML file\n",
    "#\n",
    "with open(exp_config, 'r') as f:\n",
    "    yaml_db = yaml.load(f, Loader=yaml.FullLoader)"
   ]
  },
  {
   "cell_type": "markdown",
   "id": "4ba6a42e",
   "metadata": {},
   "source": [
    "In order to make sure that your YAML configuration file matches the cache file from a previously\n",
    "run simulation or computed coefficient set, the `BasisFactory` requires that you specify the cache\n",
    "file name.  EXP will create that name on the fly.  So, we need to add the cache file name to the\n",
    "YAML configuration by hand.  This may seem a bit awkward, but this level of intentional specification\n",
    "will help prevent confusion later.\n",
    "\n",
    "Specifically in the lines below, we iterate through the `Components` stanza and add the name cache\n",
    "to the configuration.  Here, that named cache is `.eof.cache.run0`."
   ]
  },
  {
   "cell_type": "code",
   "execution_count": 91,
   "id": "21531b75",
   "metadata": {},
   "outputs": [
    {
     "name": "stdout",
     "output_type": "stream",
     "text": [
      "id: cube\n",
      "parameters:\n",
      "  nmaxx: 16\n",
      "  nmaxy: 16\n",
      "  nmaxz: 16\n",
      "\n"
     ]
    }
   ],
   "source": [
    "# Grab both star and dark, although I'm mostly interested in star at this point\n",
    "#\n",
    "for v in yaml_db['Components']:\n",
    "    if v['name'] == component:\n",
    "        # v['force']['parameters']['eof_file'] = '.eof.cache.run001'\n",
    "        # v['force']['parameters']['ncylodd'] = 3\n",
    "        config = yaml.dump(v['force'])\n",
    "        \n",
    "print(config)\n",
    " "
   ]
  },
  {
   "cell_type": "code",
   "execution_count": 92,
   "id": "62194652",
   "metadata": {},
   "outputs": [
    {
     "name": "stdout",
     "output_type": "stream",
     "text": [
      "\n",
      "Runtag from config16b.yml is: run16b\n",
      "\n",
      "Coef file is: outcoef.cube.run16b\n"
     ]
    }
   ],
   "source": [
    "# Construct the basis instance\n",
    "#\n",
    "basis = pyEXP.basis.Basis.factory(config)\n",
    "\n",
    "# Get the runtag\n",
    "#\n",
    "runtag = yaml_db['Global']['runtag']\n",
    "print(\"\\nRuntag from {} is: {}\".format(exp_config, runtag))\n",
    "coeffile = 'outcoef.{}.{}'.format(component, runtag)\n",
    "print(\"\\nCoef file is:\", coeffile)"
   ]
  },
  {
   "cell_type": "markdown",
   "id": "d51a62ec",
   "metadata": {},
   "source": [
    "## Read the coefficients"
   ]
  },
  {
   "cell_type": "code",
   "execution_count": 98,
   "id": "04e9699e",
   "metadata": {},
   "outputs": [
    {
     "name": "stdout",
     "output_type": "stream",
     "text": [
      "[0.0, 0.02, 0.04, 0.06, 0.08, 0.1, 0.12, 0.14, 0.16, 0.18, 0.2, 0.22, 0.24, 0.26, 0.28, 0.3, 0.32, 0.34, 0.36, 0.38, 0.4, 0.42, 0.44, 0.46, 0.48, 0.5, 0.52, 0.54, 0.56, 0.58, 0.6, 0.62, 0.64, 0.66, 0.68, 0.7, 0.72, 0.74, 0.76, 0.78, 0.8, 0.82, 0.84, 0.86, 0.88, 0.9, 0.92, 0.94, 0.96, 0.98, 1.0, 1.02, 1.04, 1.06, 1.08, 1.1, 1.12, 1.14, 1.16, 1.18, 1.2, 1.22, 1.24, 1.26, 1.28, 1.3, 1.32, 1.34, 1.36, 1.38, 1.4, 1.42, 1.44, 1.46, 1.48, 1.5, 1.52, 1.54, 1.56, 1.58, 1.6, 1.62, 1.64, 1.66, 1.68, 1.7, 1.72, 1.74, 1.76, 1.78, 1.8, 1.82, 1.84, 1.86, 1.88, 1.9, 1.92, 1.94, 1.96, 1.98, 2.0, 2.02, 2.04, 2.06, 2.08, 2.1, 2.12, 2.14, 2.16, 2.18, 2.2, 2.22, 2.24, 2.26, 2.28, 2.3, 2.32, 2.34, 2.36, 2.38, 2.4, 2.42, 2.44, 2.46, 2.48, 2.5, 2.52, 2.54, 2.56, 2.58, 2.6, 2.62, 2.64, 2.66, 2.68, 2.7, 2.72, 2.74, 2.76, 2.78, 2.8, 2.82, 2.84, 2.86, 2.88, 2.9, 2.92, 2.94, 2.96, 2.98, 3.0, 3.02, 3.04, 3.06, 3.08, 3.1, 3.12, 3.14, 3.16, 3.18, 3.2, 3.22, 3.24, 3.26, 3.28, 3.3, 3.32, 3.34, 3.36, 3.38, 3.4, 3.42, 3.44, 3.46, 3.48, 3.5, 3.52, 3.54, 3.56, 3.58, 3.6, 3.62, 3.64, 3.66, 3.68, 3.7, 3.72, 3.74, 3.76, 3.78, 3.8, 3.82, 3.84, 3.86, 3.88, 3.9, 3.92, 3.94, 3.96, 3.98, 4.0, 4.02, 4.04, 4.06, 4.08, 4.1, 4.12, 4.14, 4.16, 4.18, 4.2, 4.22, 4.24, 4.26, 4.28, 4.3, 4.32, 4.34, 4.36, 4.38, 4.4, 4.42, 4.44, 4.46, 4.48, 4.5, 4.52, 4.54, 4.56, 4.58, 4.6, 4.62, 4.64, 4.66, 4.68, 4.7, 4.72, 4.74, 4.76, 4.78, 4.8, 4.82, 4.84, 4.86, 4.88, 4.9, 4.92, 4.94, 4.96, 4.98, 5.0, 5.02, 5.04, 5.06, 5.08, 5.1, 5.12, 5.14, 5.16, 5.18, 5.2, 5.22, 5.24, 5.26, 5.28, 5.3, 5.32, 5.34, 5.36, 5.38, 5.4, 5.42, 5.44, 5.46, 5.48, 5.5, 5.52, 5.54, 5.56, 5.58, 5.6, 5.62, 5.64, 5.66, 5.68, 5.7, 5.72, 5.74, 5.76, 5.78, 5.8, 5.82, 5.84, 5.86, 5.88, 5.9, 5.92, 5.94, 5.96, 5.98, 6.0, 6.02, 6.04, 6.06, 6.08, 6.1, 6.12, 6.14, 6.16, 6.18, 6.2, 6.22, 6.24, 6.26, 6.28, 6.3, 6.32, 6.34, 6.36, 6.38, 6.4, 6.42, 6.44, 6.46, 6.48, 6.5, 6.52, 6.54, 6.56, 6.58, 6.6, 6.62, 6.64, 6.66, 6.68, 6.7, 6.72, 6.74, 6.76, 6.78, 6.8, 6.82, 6.84, 6.86, 6.88, 6.9, 6.92, 6.94, 6.96, 6.98, 7.0, 7.02, 7.04, 7.06, 7.08, 7.1, 7.12, 7.14, 7.16, 7.18, 7.2, 7.22, 7.24, 7.26, 7.28, 7.3, 7.32, 7.34, 7.36, 7.38, 7.4, 7.42, 7.44, 7.46, 7.48, 7.5, 7.52, 7.54, 7.56, 7.58, 7.6, 7.62, 7.64, 7.66, 7.68, 7.7, 7.72, 7.74, 7.76, 7.78, 7.8, 7.82, 7.84, 7.86, 7.88, 7.9, 7.92, 7.94, 7.96, 7.98, 8.0]\n"
     ]
    }
   ],
   "source": [
    "coefs = pyEXP.coefs.Coefs.factory(coeffile, stride=10)\n",
    "print(coefs.Times())"
   ]
  },
  {
   "cell_type": "markdown",
   "id": "0d07bed4",
   "metadata": {},
   "source": [
    "## Set the output field grid and render the slices"
   ]
  },
  {
   "cell_type": "code",
   "execution_count": 99,
   "id": "85b59f99",
   "metadata": {},
   "outputs": [
    {
     "name": "stdout",
     "output_type": "stream",
     "text": [
      "Created fields instance\n",
      "Elapsed time: 31979.56501531601\n"
     ]
    }
   ],
   "source": [
    "import time\n",
    "start = time.time()\n",
    "\n",
    "times = coefs.Times() # Limit the range to something interesting...\n",
    "pmin  = [rmin, rmin, rmin]\n",
    "pmax  = [rmax, rmax, rmax]\n",
    "grid  = [npix, npix, npix]\n",
    "\n",
    "fields = pyEXP.field.FieldGenerator(times, pmin, pmax, grid)\n",
    "\n",
    "print('Created fields instance')\n",
    "\n",
    "volumes = fields.volumes(basis, coefs)\n",
    "print(\"Elapsed time:\", time.time() - start)"
   ]
  },
  {
   "cell_type": "markdown",
   "id": "f9e243a2",
   "metadata": {},
   "source": [
    "## This prints out the data ranges for the last frame"
   ]
  },
  {
   "cell_type": "code",
   "execution_count": 95,
   "id": "9f5b4605",
   "metadata": {
    "scrolled": true
   },
   "outputs": [
    {
     "name": "stdout",
     "output_type": "stream",
     "text": [
      "dens                : min= -1.02e+00  max=  9.75e+01  shape=(50, 50, 50)\n",
      "dens m=0            : min=  0.00e+00  max=  0.00e+00  shape=(50, 50, 50)\n",
      "dens m>0            : min= -1.02e+00  max=  9.75e+01  shape=(50, 50, 50)\n",
      "potl                : min= -3.89e+00  max=  6.05e-01  shape=(50, 50, 50)\n",
      "potl m=0            : min=  0.00e+00  max=  0.00e+00  shape=(50, 50, 50)\n",
      "potl m>0            : min= -3.89e+00  max=  6.05e-01  shape=(50, 50, 50)\n",
      "x force             : min= -1.86e+01  max=  1.85e+01  shape=(50, 50, 50)\n",
      "y force             : min= -1.63e+01  max=  1.62e+01  shape=(50, 50, 50)\n",
      "z force             : min= -1.45e+01  max=  1.44e+01  shape=(50, 50, 50)\n"
     ]
    }
   ],
   "source": [
    "n = -1\n",
    "for v in volumes[times[n]]:\n",
    "    d = volumes[times[n]][v]\n",
    "    print('{:20s}: min={:10.2e}  max={:10.2e}  shape={}'.format(v, np.min(d), np.max(d), d.shape))"
   ]
  },
  {
   "cell_type": "markdown",
   "id": "e581c01b",
   "metadata": {},
   "source": [
    "Now get the data from the last frame for rendering"
   ]
  },
  {
   "cell_type": "code",
   "execution_count": 96,
   "id": "3cad83e6",
   "metadata": {},
   "outputs": [
    {
     "name": "stdout",
     "output_type": "stream",
     "text": [
      "Time=8.0 N=5\n"
     ]
    }
   ],
   "source": [
    "dens = volumes[times[n]]['dens']\n",
    "potl = volumes[times[n]]['potl']\n",
    "phif = volumes[times[n]]['x force']\n",
    "print(\"Time={} N={}\".format(times[n], len(times)))\n",
    "\n",
    "# fields.file_volumes(basis, coefs, 'fid_test')"
   ]
  },
  {
   "cell_type": "code",
   "execution_count": 24,
   "id": "eb6e79ab",
   "metadata": {},
   "outputs": [],
   "source": [
    "def repack(vol):\n",
    "    \"\"\"Rewrite x-y-z volume into z-y-x volume\"\"\"\n",
    "    shp = vol.shape\n",
    "    ret = np.ndarray((shp[2], shp[1], shp[0]))\n",
    "    for i in range(shp[2]):\n",
    "        for j in range(shp[1]):\n",
    "            for k in range(shp[0]):\n",
    "                    ret[i, j, k] = vol[k, j, i]\n",
    "    return ret"
   ]
  },
  {
   "cell_type": "markdown",
   "id": "a881a391",
   "metadata": {},
   "source": [
    "And do the rendering with `k3d`:"
   ]
  },
  {
   "cell_type": "code",
   "execution_count": 97,
   "id": "b808d91e",
   "metadata": {
    "scrolled": true
   },
   "outputs": [
    {
     "data": {
      "application/vnd.jupyter.widget-view+json": {
       "model_id": "ac0bee581078461fae62a76adf982e32",
       "version_major": 2,
       "version_minor": 0
      },
      "text/plain": [
       "Output()"
      ]
     },
     "metadata": {},
     "output_type": "display_data"
    }
   ],
   "source": [
    "plot1 = k3d.plot()\n",
    "\n",
    "color_map = k3d.basic_color_maps.Jet\n",
    "\n",
    "levs = [0.75, 2.0, 5.0, 10.0, 20.0, 30.0, 40.0]\n",
    "\n",
    "minlev = 0.0\n",
    "maxlev = 50.0\n",
    "\n",
    "for lev in levs:\n",
    "    plot1 += k3d.marching_cubes(repack(dens), level=lev, attribute=[lev], color_map=color_map,\n",
    "                                      color_range=[minlev, maxlev],\n",
    "                                      opacity=0.25,\n",
    "                                      xmin=rmin, xmax=rmax,\n",
    "                                      ymin=rmin, ymax=rmax,\n",
    "                                      zmin=rmin, zmax=rmax,\n",
    "                                      compression_level=9,\n",
    "                                      flat_shading=False)\n",
    "    \n",
    "plot1 += k3d.text2d('T={:2.1f}'.format(times[n]), position=(0.05, 0.05))\n",
    "\n",
    "plot1.display()"
   ]
  },
  {
   "cell_type": "code",
   "execution_count": 14,
   "id": "57a5b482",
   "metadata": {},
   "outputs": [],
   "source": [
    "plot1.camera = [-0.35, -0.8, 1.5, 0.5, 0.5, 0.5, 0, 0, 1]"
   ]
  },
  {
   "cell_type": "code",
   "execution_count": 100,
   "id": "861c2273",
   "metadata": {},
   "outputs": [],
   "source": [
    "plot1.camera_auto_fit = False\n",
    "plot1.grid_auto_fit = False\n",
    "    \n",
    "# Decorator/generator\n",
    "@plot1.yield_screenshots\n",
    "def makeFrames():\n",
    "    global plot1 # Need this to be mutable\n",
    "    icnt = 0     # Frame counter\n",
    "    for t in times:\n",
    "        # Remove all drawables\n",
    "        count = len(plot1.objects)\n",
    "        for j in range(count):\n",
    "            plot1 -= plot1.objects[-1]\n",
    "            \n",
    "        # Add new drawables\n",
    "        dens = volumes[t]['dens']\n",
    "        for lev in levs:\n",
    "            plot1 += k3d.marching_cubes(repack(dens), level=lev, attribute=[lev], color_map=color_map,\n",
    "                                      color_range=[minlev, maxlev],\n",
    "                                      opacity=0.25,\n",
    "                                      xmin=rmin, xmax=rmax,\n",
    "                                      ymin=rmin, ymax=rmax,\n",
    "                                      zmin=rmin, zmax=rmax,\n",
    "                                      compression_level=9,\n",
    "                                      flat_shading=False)\n",
    "        # Add time stamp\n",
    "        plot1 += k3d.text2d('T={}'.format(t), position=(0.05, 0.05))\n",
    "        \n",
    "        # Render and print to disk\n",
    "        plot1.fetch_screenshot()\n",
    "        screenshot = yield\n",
    "        with open('screenshot_%03d.png'%icnt, 'wb') as f:\n",
    "            f.write(screenshot)\n",
    "        icnt += 1\n",
    "        \n",
    "makeFrames()"
   ]
  }
 ],
 "metadata": {
  "kernelspec": {
   "display_name": "Python 3 (ipykernel)",
   "language": "python",
   "name": "python3"
  },
  "language_info": {
   "codemirror_mode": {
    "name": "ipython",
    "version": 3
   },
   "file_extension": ".py",
   "mimetype": "text/x-python",
   "name": "python",
   "nbconvert_exporter": "python",
   "pygments_lexer": "ipython3",
   "version": "3.10.12"
  }
 },
 "nbformat": 4,
 "nbformat_minor": 5
}
