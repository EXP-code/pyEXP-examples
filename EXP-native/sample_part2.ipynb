{
 "cells": [
  {
   "cell_type": "markdown",
   "id": "1ede175b",
   "metadata": {},
   "source": [
    "# An example of applying MSSA to the coefficients you created using pyEXP\n",
    "This example assumes that you have run the `sample_part1` notebook to create the coefficients.\n",
    "\n",
    "We begin by importing `pyEXP` and friends and setting the working directory."
   ]
  },
  {
   "cell_type": "code",
   "execution_count": null,
   "id": "76484acb",
   "metadata": {},
   "outputs": [],
   "source": [
    "import os\n",
    "import yaml\n",
    "import pyEXP\n",
    "import numpy as np\n",
    "import matplotlib.pyplot as plt\n",
    "\n",
    "# In this test, I assume that sample.py has already been run to\n",
    "# generate a coefficient set.  This script points at that directory\n",
    "# and does some additional analysis and plotting\n",
    "#\n",
    "os.chdir('/home/weinberg/Nbody/Better')"
   ]
  },
  {
   "cell_type": "markdown",
   "id": "2fa03ed7",
   "metadata": {},
   "source": [
    "## Create the basis\n",
    "This step is the same as in the previous notebook.  We are going to use the basis for field evaluation so we need the basis."
   ]
  },
  {
   "cell_type": "code",
   "execution_count": null,
   "id": "ffd8de2d",
   "metadata": {},
   "outputs": [],
   "source": [
    "# Get the basis config\n",
    "#\n",
    "yaml_config = \"\"\n",
    "with open('basis.yaml') as f:\n",
    "    config = yaml.load(f, Loader=yaml.FullLoader)\n",
    "    yaml_config = yaml.dump(config)\n",
    "\n",
    "# Construct the basis instance\n",
    "#\n",
    "basis = pyEXP.basis.Basis.factory(yaml_config)"
   ]
  },
  {
   "cell_type": "markdown",
   "id": "161ab385",
   "metadata": {},
   "source": [
    "## Reading the halo coefficients\n",
    "We created the halo coefficients in the last notebook and stashed them in the EXP HDF5 format.  Now, we'll read them back."
   ]
  },
  {
   "cell_type": "code",
   "execution_count": null,
   "id": "6aa835b8",
   "metadata": {},
   "outputs": [],
   "source": [
    "# Reread the coefs from the file\n",
    "#\n",
    "coefs = pyEXP.coefs.Coefs.factory('test_better.h5')\n",
    "\n",
    "print(\"Got coefs for name=\", coefs.getName())"
   ]
  },
  {
   "cell_type": "markdown",
   "id": "90e435f8",
   "metadata": {},
   "source": [
    "## Visualizing the fields\n",
    "We made a few test grids in Part 1 of the notebook.  This time, we'll make surface renderings:"
   ]
  },
  {
   "cell_type": "code",
   "execution_count": null,
   "id": "c903a12a",
   "metadata": {},
   "outputs": [],
   "source": [
    "# Now try some slices for rendering\n",
    "#\n",
    "times = coefs.Times()\n",
    "pmin  = [-1.0, -1.0, 0.0]\n",
    "pmax  = [ 1.0,  1.0, 0.0]\n",
    "grid  = [  40,   40,   0]\n",
    "\n",
    "fields = pyEXP.field.FieldGenerator(times, pmin, pmax, grid)\n",
    "\n",
    "surfaces = fields.slices(basis, coefs)\n",
    "\n",
    "print(\"We now have the following [time field] pairs\")\n",
    "final = 0.0\n",
    "for v in surfaces:\n",
    "    print('-'*40)\n",
    "    for u in surfaces[v]:\n",
    "        print(\"{:8.4f}  {}\".format(v, u))\n",
    "        final = v\n",
    "\n",
    "# Print the potential image at the final time (I think there is a\n",
    "# fencepost issue in this grid, no matter).\n",
    "x = np.linspace(pmin[0], pmax[0], grid[0])\n",
    "y = np.linspace(pmin[1], pmax[1], grid[1])\n",
    "xv, yv = np.meshgrid(x, y)\n",
    "\n",
    "# Visualize the final time slice in grid.  Obviously, we could use any \n",
    "# field we want.  Here is potential and radial force.\n",
    "\n",
    "cont1 = plt.contour(xv, yv, surfaces[final]['p'].transpose(), colors='k')\n",
    "plt.clabel(cont1, fontsize=9, inline=True)\n",
    "cont2 = plt.contourf(xv, yv, surfaces[final]['p'].transpose())\n",
    "plt.colorbar(cont2)\n",
    "plt.xlabel('x')\n",
    "plt.ylabel('y')\n",
    "plt.title('Potential at T={}'.format(final))\n",
    "plt.show()\n",
    "\n",
    "cont1 = plt.contour(xv, yv, surfaces[final]['fr'].transpose(), colors='k')\n",
    "plt.clabel(cont1, fontsize=9, inline=True)\n",
    "cont2 = plt.contourf(xv, yv, surfaces[final]['fr'].transpose())\n",
    "plt.colorbar(cont2)\n",
    "plt.xlabel('x')\n",
    "plt.ylabel('y')\n",
    "plt.title('Radial force at T={}'.format(final))"
   ]
  },
  {
   "cell_type": "markdown",
   "id": "6ed3a354",
   "metadata": {},
   "source": [
    "## Using MSSA\n",
    "Generate the initial MSSA analyis and plot the run of eigenvalues"
   ]
  },
  {
   "cell_type": "code",
   "execution_count": null,
   "id": "291047c7",
   "metadata": {},
   "outputs": [],
   "source": [
    "# Make a subkey sequence\n",
    "#\n",
    "keylst = coefs.makeKeys([1])\n",
    "print(\"Keys=\", keylst)\n",
    "\n",
    "name = 'dark halo'\n",
    "config = {name: (coefs, keylst, [])}\n",
    "\n",
    "window = int(len(coefs.Times())/2)\n",
    "npc = 10\n",
    "\n",
    "print(\"Window={} PC number={}\".format(window, npc))\n",
    "\n",
    "ssa = pyEXP.mssa.expMSSA(config, window, npc)\n",
    "\n",
    "ev = ssa.eigenvalues()\n",
    "\n",
    "plt.plot(ev, 'o-')\n",
    "plt.xlabel(\"Index\")\n",
    "plt.ylabel(\"EV\")\n",
    "plt.title(\"Eigenvalues by index\")\n",
    "plt.show()"
   ]
  },
  {
   "cell_type": "markdown",
   "id": "83d120ed",
   "metadata": {},
   "source": [
    "### Next plot the principle components."
   ]
  },
  {
   "cell_type": "code",
   "execution_count": null,
   "id": "1e9cedc5",
   "metadata": {},
   "outputs": [],
   "source": [
    "times = coefs.Times();\n",
    "pc    = ssa.getPC();\n",
    "\n",
    "rows, cols = pc.shape\n",
    "\n",
    "for i in range(cols):\n",
    "    plt.plot(times[0:rows], pc[:,i], '-', label=\"{:d}\".format(i))\n",
    "\n",
    "plt.xlabel('Time')\n",
    "plt.ylabel('PC')\n",
    "plt.legend()\n",
    "plt.title(\"Principal components (left-singular vectors)\")\n",
    "plt.show()"
   ]
  },
  {
   "cell_type": "markdown",
   "id": "fad5b1c3",
   "metadata": {},
   "source": [
    "### Now try a reconstruction"
   ]
  },
  {
   "cell_type": "code",
   "execution_count": null,
   "id": "e9403c07",
   "metadata": {},
   "outputs": [],
   "source": [
    "ssa.reconstruct()\n",
    "\n",
    "coefs.zerodata() # <---replace with reconstructed\n",
    "newdata = ssa.getReconstructed()\n",
    "print('newdata is a', type(newdata))"
   ]
  },
  {
   "cell_type": "markdown",
   "id": "d78607d9",
   "metadata": {},
   "source": [
    "### Compute the k-means analysis\n",
    "Each channel is the real or imaginary part (designated cosine [c] or sine [s]).  These could be combined and this will be done in a later update.   The k-means analysis illustrates the clear patterns in the PCs seen in the plots above: the individual features occur in pairs, dominated by the first two pairs as seen in the eigenvalue plot."
   ]
  },
  {
   "cell_type": "code",
   "execution_count": null,
   "id": "36852402",
   "metadata": {},
   "outputs": [],
   "source": [
    "# Print k-means groups\n",
    "#\n",
    "ssa.kmeans()"
   ]
  },
  {
   "cell_type": "markdown",
   "id": "f1e3387d",
   "metadata": {},
   "source": [
    "### Finally plot the w-correlation matrix\n",
    "This is the sum of the w-correlation matrices for all channels."
   ]
  },
  {
   "cell_type": "code",
   "execution_count": null,
   "id": "6c08141a",
   "metadata": {},
   "outputs": [],
   "source": [
    "mat = ssa.wCorrAll()\n",
    "x = plt.pcolormesh(mat)\n",
    "plt.title(\"All channels\")\n",
    "plt.colorbar(x)\n",
    "plt.show()"
   ]
  },
  {
   "cell_type": "markdown",
   "id": "d42fe62f",
   "metadata": {},
   "source": [
    "One can also look at individual channels."
   ]
  },
  {
   "cell_type": "code",
   "execution_count": null,
   "id": "91983e25",
   "metadata": {},
   "outputs": [],
   "source": [
    "# Get and view the w-correlation matrices\n",
    "# for each key individually\n",
    "#\n",
    "for k in keylst:\n",
    "    mat = ssa.wCorr(name, k)\n",
    "    # Plot it\n",
    "    x = plt.pcolormesh(mat)\n",
    "    plt.title('{}: {}'.format(name,k))\n",
    "    plt.colorbar(x)\n",
    "    plt.show()"
   ]
  },
  {
   "cell_type": "markdown",
   "id": "63b6de53",
   "metadata": {},
   "source": []
  }
 ],
 "metadata": {
  "kernelspec": {
   "display_name": "Python 3 (ipykernel)",
   "language": "python",
   "name": "python3"
  },
  "language_info": {
   "codemirror_mode": {
    "name": "ipython",
    "version": 3
   },
   "file_extension": ".py",
   "mimetype": "text/x-python",
   "name": "python",
   "nbconvert_exporter": "python",
   "pygments_lexer": "ipython3",
   "version": "3.10.6"
  }
 },
 "nbformat": 4,
 "nbformat_minor": 5
}
