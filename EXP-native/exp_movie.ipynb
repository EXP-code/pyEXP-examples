{
 "cells": [
  {
   "cell_type": "markdown",
   "id": "fdbc0218",
   "metadata": {},
   "source": [
    "# EXP movie example \n",
    "\n",
    "## Using EXP coefficients, the EXP config file to construct a basis, and slices from the FieldGenerator\n",
    "\n",
    "Read in config from EXP yaml file and render a movie from the coefficient file.   This notebook will create the movie for either the disk or the halo by changing the component variable from 'dark' to 'star' and vice versa."
   ]
  },
  {
   "cell_type": "markdown",
   "id": "c9477147",
   "metadata": {},
   "source": [
    "## Begin with the usual imports\n",
    "\n",
    "You may need to append the pyEXP location to your Python path, depending on your installation."
   ]
  },
  {
   "cell_type": "code",
   "execution_count": null,
   "id": "f2b21021",
   "metadata": {},
   "outputs": [],
   "source": [
    "import os\n",
    "import copy\n",
    "import yaml\n",
    "# sys.path.append('/my/path/to/site-packages')\n",
    "import pyEXP\n",
    "import numpy as np\n",
    "import matplotlib.pyplot as plt\n",
    "from matplotlib import ticker, cm, colors\n",
    "from os.path import exists\n",
    "\n",
    "plt.rcParams['figure.figsize'] = [12, 9]"
   ]
  },
  {
   "cell_type": "markdown",
   "id": "3a798b7d",
   "metadata": {},
   "source": [
    "## Configure the basis and component\n",
    "\n",
    "At minimum, you need to\n",
    "- Define the EXP config file to import the config.   \n",
    "- Define the target component.\n",
    "\n",
    "The rest of the notebook should then run without changes.  \n",
    "\n",
    "Two optional parameters:\n",
    "- The half size of each axis\n",
    "- Number of pixels along each axis"
   ]
  },
  {
   "cell_type": "code",
   "execution_count": null,
   "id": "05508627",
   "metadata": {},
   "outputs": [],
   "source": [
    "# key parameters\n",
    "exp_config = 'step3_try9.yml'\n",
    "component  = 'star'  # You can make the halo (disk) movie by changing this to 'dark' ('star')\n",
    "\n",
    "# options\n",
    "size       = 0.04\n",
    "npix       = 50"
   ]
  },
  {
   "cell_type": "markdown",
   "id": "6c1d9c53",
   "metadata": {},
   "source": [
    "## Switch to the working directory\n",
    "I like to be explicit about my working directory but you don't need to do this here.  It would be sufficient to simply pass the full path to the coefficient factory below or launch the notebook from a working directory."
   ]
  },
  {
   "cell_type": "code",
   "execution_count": null,
   "id": "0cf8659f",
   "metadata": {},
   "outputs": [],
   "source": [
    "# os.chdir('/data/Nbody/Test')"
   ]
  },
  {
   "cell_type": "markdown",
   "id": "cfffb412",
   "metadata": {},
   "source": [
    "## Read the EXP config file, generate the basis from the config, and get the run tag for convenience"
   ]
  },
  {
   "cell_type": "code",
   "execution_count": null,
   "id": "62194652",
   "metadata": {},
   "outputs": [],
   "source": [
    "# Open and read the yaml file\n",
    "#\n",
    "with open(exp_config, 'r') as f:\n",
    "    yaml_db = yaml.load(f, Loader=yaml.FullLoader)\n",
    "    \n",
    "# Grab both star and dark, although I'm mostly interested in star at this point\n",
    "#\n",
    "for v in yaml_db['Components']:\n",
    "    if v['name'] == component:\n",
    "        config = yaml.dump(v['force'])\n",
    "        \n",
    "# Construct the basis instance\n",
    "#\n",
    "basis = pyEXP.basis.Basis.factory(config)\n",
    "\n",
    "# Get the runtag\n",
    "#\n",
    "runtag = yaml_db['Global']['runtag']\n",
    "print(\"\\nRuntag from {} is: {}\".format(exp_config, runtag))\n",
    "coeffile = 'outcoef.{}.{}.h5'.format(component, runtag)\n",
    "print(\"\\nCoef file is:\", coeffile)"
   ]
  },
  {
   "cell_type": "markdown",
   "id": "d51a62ec",
   "metadata": {},
   "source": [
    "## Read the coefficients"
   ]
  },
  {
   "cell_type": "code",
   "execution_count": null,
   "id": "04e9699e",
   "metadata": {},
   "outputs": [],
   "source": [
    "coefs = pyEXP.coefs.Coefs.factory(coeffile)"
   ]
  },
  {
   "cell_type": "markdown",
   "id": "0d07bed4",
   "metadata": {},
   "source": [
    "## Set the output field grid and render the slices"
   ]
  },
  {
   "cell_type": "code",
   "execution_count": null,
   "id": "85b59f99",
   "metadata": {},
   "outputs": [],
   "source": [
    "times = coefs.Times()\n",
    "pmin  = [-size, -size, 0.0]\n",
    "pmax  = [ size,  size, 0.0]\n",
    "grid  = [ npix,  npix,   0]\n",
    "\n",
    "fields = pyEXP.field.FieldGenerator(times, pmin, pmax, grid)\n",
    "\n",
    "print('Created fields instance')\n",
    "\n",
    "surfaces = fields.slices(basis, coefs)"
   ]
  },
  {
   "cell_type": "markdown",
   "id": "e5cc57ea",
   "metadata": {},
   "source": [
    "## Make a movie frames"
   ]
  },
  {
   "cell_type": "code",
   "execution_count": null,
   "id": "f0a34b92",
   "metadata": {},
   "outputs": [],
   "source": [
    "# Get the shape\n",
    "keys = list(surfaces.keys())\n",
    "nx = surfaces[keys[0]]['d'].shape[0]\n",
    "ny = surfaces[keys[0]]['d'].shape[1]\n",
    "\n",
    "# Make the mesh\n",
    "x = np.linspace(pmin[0], pmax[0], nx)\n",
    "y = np.linspace(pmin[1], pmax[1], ny)\n",
    "xv, yv = np.meshgrid(x, y)\n",
    "\n",
    "plt.rcParams.update({'font.size': 22})\n",
    "\n",
    "# Fix the contour levels to prevent jitter in the movie\n",
    "cbar1 = 10**np.arange(0.0, 4.01, 0.1)\n",
    "cbar2 = 10**np.arange(0.0, 4.01, 0.4)\n",
    "\n",
    "# Frame counter\n",
    "icnt = 0\n",
    "cmap = copy.copy(plt.colormaps['viridis'])\n",
    "\n",
    "N = cmap.N\n",
    "cmap.set_under(cmap(1))\n",
    "cmap.set_over(cmap(N-1))\n",
    "\n",
    "# Iterate through the keys\n",
    "for v in keys:\n",
    "    fig, ax = plt.subplots(1, 1, figsize=(24, 20))\n",
    "    \n",
    "    mat = surfaces[v]['d']\n",
    "    for i in range(mat.shape[0]):\n",
    "        for j in range(mat.shape[1]):\n",
    "            if mat[i, j] < 1.0: mat[i, j] = 1.0\n",
    "            if mat[i, j] > 10000.0: mat[i, j] = 10000.0\n",
    "            \n",
    "    cont1 = ax.contour(xv, yv, mat.transpose(), cbar2, colors='k')\n",
    "    # You can label the contours inline by uncommenting the next two lines...\n",
    "    # ax[0].clabel(cont1, fontsize=9, inline=True)\n",
    "    # cont2 = ax.contourf(xv, yv, surfaces[v]['d'].transpose(), cbar2, vmin=cbar2[0], vmax=cbar2[-1])\n",
    "    cont2 = ax.contourf(xv, yv, mat.transpose(), cbar1, locator=ticker.LogLocator())\n",
    "    plt.colorbar(cont2, ax=ax)\n",
    "    ax.set_xlabel('x')\n",
    "    ax.set_ylabel('y')\n",
    "    ax.set_title('T={:4.3f}'.format(v))\n",
    "    \n",
    "    fig.savefig('{}_movie_{}_{:04d}.png'.format(component, runtag, icnt), dpi=75)\n",
    "    plt.close()\n",
    "\n",
    "    icnt += 1"
   ]
  },
  {
   "cell_type": "markdown",
   "id": "e2375345",
   "metadata": {},
   "source": [
    "## Make a mp4 file from the frames using ffmpeg\n",
    "\n",
    "This only work if you have 'ffmpeg' installed, of course ..."
   ]
  },
  {
   "cell_type": "code",
   "execution_count": null,
   "id": "506babb4",
   "metadata": {},
   "outputs": [],
   "source": [
    "os.system('ffmpeg -y -i \\'{0}_movie_{1}_%04d.png\\' movie_{0}_{1}.mp4'.format(component, runtag))"
   ]
  },
  {
   "cell_type": "markdown",
   "id": "4f997443",
   "metadata": {},
   "source": [
    "### Preview the new movie"
   ]
  },
  {
   "cell_type": "code",
   "execution_count": null,
   "id": "86651f26",
   "metadata": {},
   "outputs": [],
   "source": [
    "from IPython.display import Video\n",
    "Video('movie_{0}_{1}.mp4'.format(component, runtag), embed=True, width=800)"
   ]
  },
  {
   "cell_type": "code",
   "execution_count": null,
   "id": "52d3dfe1",
   "metadata": {},
   "outputs": [],
   "source": []
  }
 ],
 "metadata": {
  "kernelspec": {
   "display_name": "Python 3 (ipykernel)",
   "language": "python",
   "name": "python3"
  },
  "language_info": {
   "codemirror_mode": {
    "name": "ipython",
    "version": 3
   },
   "file_extension": ".py",
   "mimetype": "text/x-python",
   "name": "python",
   "nbconvert_exporter": "python",
   "pygments_lexer": "ipython3",
   "version": "3.10.6"
  }
 },
 "nbformat": 4,
 "nbformat_minor": 5
}
